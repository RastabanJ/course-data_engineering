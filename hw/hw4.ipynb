{
 "cells": [
  {
   "cell_type": "code",
   "execution_count": 30,
   "id": "3c34f508-33c4-4aea-abba-8aa0014a5045",
   "metadata": {},
   "outputs": [
    {
     "data": {
      "text/plain": [
       "['쌍', '쇠', '복', '돌', '팽', '육', '쌍', '개', '칠', '갑', '삼', '방']"
      ]
     },
     "execution_count": 30,
     "metadata": {},
     "output_type": "execute_result"
    }
   ],
   "source": [
    "month_list = ['쌍', '쇠', '복', '돌', '팽', '육', '쌍', '개', '칠', '갑', '삼', '방']\n",
    "month_list"
   ]
  },
  {
   "cell_type": "code",
   "execution_count": 31,
   "id": "c29867c7-5852-4e16-8eb8-e0dc950992f8",
   "metadata": {},
   "outputs": [
    {
     "data": {
      "text/plain": [
       "['봉',\n",
       " '구',\n",
       " '욕',\n",
       " '포',\n",
       " '똥',\n",
       " '삼',\n",
       " '식',\n",
       " '석',\n",
       " '놈',\n",
       " '님',\n",
       " '년',\n",
       " '돌',\n",
       " '단',\n",
       " '득',\n",
       " '방',\n",
       " '질',\n",
       " '장',\n",
       " '걸',\n",
       " '래',\n",
       " '룡',\n",
       " '동',\n",
       " '순',\n",
       " '자',\n",
       " '박',\n",
       " '창',\n",
       " '언',\n",
       " '것',\n",
       " '포',\n",
       " '만',\n",
       " '단',\n",
       " '국']"
      ]
     },
     "execution_count": 31,
     "metadata": {},
     "output_type": "execute_result"
    }
   ],
   "source": [
    "day_list = ['봉', '구', '욕', '포', '똥', '삼', '식', '석', '놈', '님', '년', '돌', \n",
    "            '단', '득', '방', '질', '장', '걸', '래', '룡', '동', '순', '자', '박', \n",
    "            '창', '언', '것', '포', '만', '단', '국']\n",
    "day_list"
   ]
  },
  {
   "cell_type": "code",
   "execution_count": 32,
   "id": "4cf4b3a8-ac27-4227-8460-405a274cd751",
   "metadata": {},
   "outputs": [],
   "source": [
    "def get_mychosun_name(family_name, month, day):\n",
    "    name1 = month_list[month-1]\n",
    "    name2 = day_list[day-1]\n",
    "    return family_name+name1+name2"
   ]
  },
  {
   "cell_type": "code",
   "execution_count": 33,
   "id": "f28ac93a-f76e-4e57-a205-d14baa88f438",
   "metadata": {},
   "outputs": [
    {
     "name": "stdout",
     "output_type": "stream",
     "text": [
      "나의 조선시대 이름 찾기!\n"
     ]
    },
    {
     "name": "stdin",
     "output_type": "stream",
     "text": [
      "성(family name)을 입력하세요. 정\n",
      "태어난 달(month)을 입력하세요 9\n",
      "태어난 날짜(day)를 입력하세요 20\n"
     ]
    },
    {
     "name": "stdout",
     "output_type": "stream",
     "text": [
      "당신의 조선시대 이름은 정칠룡 입니다.\n"
     ]
    }
   ],
   "source": [
    "print(\"나의 조선시대 이름 찾기!\")\n",
    "family_name = input(\"성(family name)을 입력하세요.\")\n",
    "month = int(input(\"태어난 달(month)을 입력하세요\"))\n",
    "day = int(input(\"태어난 날짜(day)를 입력하세요\"))\n",
    "\n",
    "print(\"당신의 조선시대 이름은\", get_mychosun_name(family_name, month, day) ,\"입니다.\")"
   ]
  },
  {
   "cell_type": "code",
   "execution_count": null,
   "id": "6be79daf-efe0-4b61-8c1a-3b6a8a8d8b98",
   "metadata": {},
   "outputs": [],
   "source": []
  }
 ],
 "metadata": {
  "kernelspec": {
   "display_name": "Python 3 (ipykernel)",
   "language": "python",
   "name": "python3"
  },
  "language_info": {
   "codemirror_mode": {
    "name": "ipython",
    "version": 3
   },
   "file_extension": ".py",
   "mimetype": "text/x-python",
   "name": "python",
   "nbconvert_exporter": "python",
   "pygments_lexer": "ipython3",
   "version": "3.8.11"
  }
 },
 "nbformat": 4,
 "nbformat_minor": 5
}
