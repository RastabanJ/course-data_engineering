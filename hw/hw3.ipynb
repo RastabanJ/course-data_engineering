{
 "cells": [
  {
   "cell_type": "markdown",
   "id": "1dcd6ecf-8862-4637-8495-b41babc0325a",
   "metadata": {},
   "source": [
    "과제 3: Carly's Clippers"
   ]
  },
  {
   "cell_type": "code",
   "execution_count": 32,
   "id": "d599c8f6-2bfa-4dd0-af35-c5766bf9e433",
   "metadata": {},
   "outputs": [],
   "source": [
    "hairstyles = [\"bouffant\", \"pixie\", \"dreadlocks\", \"crew\", \"bowl\", \"bob\", \"mohawk\", \"flattop\"]\n",
    "prices = [30, 25, 40, 20, 20, 35, 50, 35]\n",
    "last_week = [2, 3, 5, 8, 4, 4, 6, 2]"
   ]
  },
  {
   "cell_type": "code",
   "execution_count": 33,
   "id": "1bfa1a61-415e-475a-b560-cc5326446e04",
   "metadata": {},
   "outputs": [
    {
     "name": "stdout",
     "output_type": "stream",
     "text": [
      "Average price is 31.875\n"
     ]
    }
   ],
   "source": [
    "total_price = 0\n",
    "for price in prices:\n",
    "  total_price += price\n",
    "average_price = total_price / len(prices)\n",
    "print (\"Average price is \" + str(average_price))"
   ]
  },
  {
   "cell_type": "code",
   "execution_count": 34,
   "id": "deb35fb1-4996-4018-8a64-32b3fc13a4d7",
   "metadata": {},
   "outputs": [
    {
     "name": "stdout",
     "output_type": "stream",
     "text": [
      "[25, 20, 35, 15, 15, 30, 45, 30]\n"
     ]
    }
   ],
   "source": [
    "new_prices = [price - 5 for price in prices]\n",
    "print(new_prices)"
   ]
  },
  {
   "cell_type": "code",
   "execution_count": 35,
   "id": "bb604177-88db-454f-8cc3-2f2c16179f9e",
   "metadata": {},
   "outputs": [
    {
     "name": "stdout",
     "output_type": "stream",
     "text": [
      "Total revenue is 1085\n",
      "Average daily revenue is 155.0\n"
     ]
    }
   ],
   "source": [
    "total_revenue = 0\n",
    "for i in range(len(hairstyles)):\n",
    " total_revenue+= prices[i] * last_week[i]\n",
    "print (\"Total revenue is \" + str(total_revenue))\n",
    "average_daily_revenue = total_revenue / 7\n",
    "print(\"Average daily revenue is \" + str(average_daily_revenue))"
   ]
  },
  {
   "cell_type": "code",
   "execution_count": 36,
   "id": "9461f66b-703d-4da1-a915-997dca9980fb",
   "metadata": {},
   "outputs": [
    {
     "name": "stdout",
     "output_type": "stream",
     "text": [
      "['bouffant', 'pixie', 'crew', 'bowl']\n"
     ]
    }
   ],
   "source": [
    "cuts_under_30 = [hairstyles[i] for i in range(len(hairstyles)) if new_prices[i] < 30]\n",
    "print(cuts_under_30)"
   ]
  },
  {
   "cell_type": "code",
   "execution_count": null,
   "id": "0b51e5f4-00f8-4d96-8397-7764b74634e8",
   "metadata": {},
   "outputs": [],
   "source": []
  }
 ],
 "metadata": {
  "kernelspec": {
   "display_name": "Python 3 (ipykernel)",
   "language": "python",
   "name": "python3"
  },
  "language_info": {
   "codemirror_mode": {
    "name": "ipython",
    "version": 3
   },
   "file_extension": ".py",
   "mimetype": "text/x-python",
   "name": "python",
   "nbconvert_exporter": "python",
   "pygments_lexer": "ipython3",
   "version": "3.8.11"
  }
 },
 "nbformat": 4,
 "nbformat_minor": 5
}
